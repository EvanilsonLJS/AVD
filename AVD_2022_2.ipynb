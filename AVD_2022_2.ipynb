{
  "nbformat": 4,
  "nbformat_minor": 0,
  "metadata": {
    "colab": {
      "provenance": [],
      "collapsed_sections": [],
      "include_colab_link": true
    },
    "kernelspec": {
      "name": "python3",
      "display_name": "Python 3"
    },
    "language_info": {
      "name": "python"
    }
  },
  "cells": [
    {
      "cell_type": "markdown",
      "metadata": {
        "id": "view-in-github",
        "colab_type": "text"
      },
      "source": [
        "<a href=\"https://colab.research.google.com/github/EvanilsonLJS/AVD/blob/master/AVD_2022_2.ipynb\" target=\"_parent\"><img src=\"https://colab.research.google.com/assets/colab-badge.svg\" alt=\"Open In Colab\"/></a>"
      ]
    },
    {
      "cell_type": "markdown",
      "source": [
        "# **Descrição**\n",
        "\n",
        "Este Dataset, que vem da equipe de compras do CESAR, consiste de uma tabela a qual possui informações sobre diversos fornecedores, os compradores da equipe e as transações entre eles. Com este Dataset buscamos melhor entender as relações entre compradores e fornecedores, gerar insights que ajudem na tomada de decisões importantes."
      ],
      "metadata": {
        "id": "prZ1KZDkxe0Y"
      }
    },
    {
      "cell_type": "markdown",
      "source": [
        "# **Dicionário de Dados**\n",
        "\n",
        "**O dicionário engloba apenas as colunas usadas na geração de insights.**\n",
        "\n",
        "- Nome do Fornecedor: Nome da empresa fornecedora.\n",
        "\n",
        "- A.F Principal: Autorização de Fornecimento Principal.\n",
        "\n",
        "- Fornecedor: código do fornecedor na plataforma pirâmide.\n",
        "\n",
        "- Nome do Comprador: Nome do integrante da equipe de compras do CESAR.\n",
        "\n",
        "- Valor Total\\nPedido (R$): Valor total da compra.\n",
        "\n",
        "- Data Aceite: Data que o financeiro recebe o boleto da compra para realizar o pagamento."
      ],
      "metadata": {
        "id": "y1Cf6ZN82c7X"
      }
    },
    {
      "cell_type": "markdown",
      "source": [
        "# **Importando Libs e Conectando com o Google Drive**"
      ],
      "metadata": {
        "id": "ZRiV6Zbu0oPf"
      }
    },
    {
      "cell_type": "code",
      "execution_count": 3,
      "metadata": {
        "id": "fskh5mw31rwt",
        "colab": {
          "base_uri": "https://localhost:8080/",
          "height": 363
        },
        "outputId": "0851c693-20a5-4d67-a7ac-dafe21c77acc"
      },
      "outputs": [
        {
          "output_type": "stream",
          "name": "stdout",
          "text": [
            "Drive already mounted at /content/gdrive; to attempt to forcibly remount, call drive.mount(\"/content/gdrive\", force_remount=True).\n"
          ]
        },
        {
          "output_type": "error",
          "ename": "FileNotFoundError",
          "evalue": "ignored",
          "traceback": [
            "\u001b[0;31m---------------------------------------------------------------------------\u001b[0m",
            "\u001b[0;31mFileNotFoundError\u001b[0m                         Traceback (most recent call last)",
            "\u001b[0;32m<ipython-input-3-a101aa7ca48b>\u001b[0m in \u001b[0;36m<module>\u001b[0;34m\u001b[0m\n\u001b[1;32m      8\u001b[0m \u001b[0;32mfrom\u001b[0m \u001b[0mgoogle\u001b[0m\u001b[0;34m.\u001b[0m\u001b[0mcolab\u001b[0m \u001b[0;32mimport\u001b[0m \u001b[0mdrive\u001b[0m\u001b[0;34m\u001b[0m\u001b[0;34m\u001b[0m\u001b[0m\n\u001b[1;32m      9\u001b[0m \u001b[0mdrive\u001b[0m\u001b[0;34m.\u001b[0m\u001b[0mmount\u001b[0m\u001b[0;34m(\u001b[0m\u001b[0;34m'/content/gdrive'\u001b[0m\u001b[0;34m)\u001b[0m\u001b[0;34m\u001b[0m\u001b[0;34m\u001b[0m\u001b[0m\n\u001b[0;32m---> 10\u001b[0;31m \u001b[0mcompras\u001b[0m \u001b[0;34m=\u001b[0m \u001b[0mpd\u001b[0m\u001b[0;34m.\u001b[0m\u001b[0mread_excel\u001b[0m\u001b[0;34m(\u001b[0m\u001b[0;34m'/content/gdrive/Shared Drives/Colab Notebooks/CESAR - Compras–RelatórioPiramide2022_jan.jun.xlsx'\u001b[0m\u001b[0;34m)\u001b[0m\u001b[0;34m\u001b[0m\u001b[0;34m\u001b[0m\u001b[0m\n\u001b[0m",
            "\u001b[0;32m/usr/local/lib/python3.7/dist-packages/pandas/util/_decorators.py\u001b[0m in \u001b[0;36mwrapper\u001b[0;34m(*args, **kwargs)\u001b[0m\n\u001b[1;32m    309\u001b[0m                     \u001b[0mstacklevel\u001b[0m\u001b[0;34m=\u001b[0m\u001b[0mstacklevel\u001b[0m\u001b[0;34m,\u001b[0m\u001b[0;34m\u001b[0m\u001b[0;34m\u001b[0m\u001b[0m\n\u001b[1;32m    310\u001b[0m                 )\n\u001b[0;32m--> 311\u001b[0;31m             \u001b[0;32mreturn\u001b[0m \u001b[0mfunc\u001b[0m\u001b[0;34m(\u001b[0m\u001b[0;34m*\u001b[0m\u001b[0margs\u001b[0m\u001b[0;34m,\u001b[0m \u001b[0;34m**\u001b[0m\u001b[0mkwargs\u001b[0m\u001b[0;34m)\u001b[0m\u001b[0;34m\u001b[0m\u001b[0;34m\u001b[0m\u001b[0m\n\u001b[0m\u001b[1;32m    312\u001b[0m \u001b[0;34m\u001b[0m\u001b[0m\n\u001b[1;32m    313\u001b[0m         \u001b[0;32mreturn\u001b[0m \u001b[0mwrapper\u001b[0m\u001b[0;34m\u001b[0m\u001b[0;34m\u001b[0m\u001b[0m\n",
            "\u001b[0;32m/usr/local/lib/python3.7/dist-packages/pandas/io/excel/_base.py\u001b[0m in \u001b[0;36mread_excel\u001b[0;34m(io, sheet_name, header, names, index_col, usecols, squeeze, dtype, engine, converters, true_values, false_values, skiprows, nrows, na_values, keep_default_na, na_filter, verbose, parse_dates, date_parser, thousands, comment, skipfooter, convert_float, mangle_dupe_cols, storage_options)\u001b[0m\n\u001b[1;32m    362\u001b[0m     \u001b[0;32mif\u001b[0m \u001b[0;32mnot\u001b[0m \u001b[0misinstance\u001b[0m\u001b[0;34m(\u001b[0m\u001b[0mio\u001b[0m\u001b[0;34m,\u001b[0m \u001b[0mExcelFile\u001b[0m\u001b[0;34m)\u001b[0m\u001b[0;34m:\u001b[0m\u001b[0;34m\u001b[0m\u001b[0;34m\u001b[0m\u001b[0m\n\u001b[1;32m    363\u001b[0m         \u001b[0mshould_close\u001b[0m \u001b[0;34m=\u001b[0m \u001b[0;32mTrue\u001b[0m\u001b[0;34m\u001b[0m\u001b[0;34m\u001b[0m\u001b[0m\n\u001b[0;32m--> 364\u001b[0;31m         \u001b[0mio\u001b[0m \u001b[0;34m=\u001b[0m \u001b[0mExcelFile\u001b[0m\u001b[0;34m(\u001b[0m\u001b[0mio\u001b[0m\u001b[0;34m,\u001b[0m \u001b[0mstorage_options\u001b[0m\u001b[0;34m=\u001b[0m\u001b[0mstorage_options\u001b[0m\u001b[0;34m,\u001b[0m \u001b[0mengine\u001b[0m\u001b[0;34m=\u001b[0m\u001b[0mengine\u001b[0m\u001b[0;34m)\u001b[0m\u001b[0;34m\u001b[0m\u001b[0;34m\u001b[0m\u001b[0m\n\u001b[0m\u001b[1;32m    365\u001b[0m     \u001b[0;32melif\u001b[0m \u001b[0mengine\u001b[0m \u001b[0;32mand\u001b[0m \u001b[0mengine\u001b[0m \u001b[0;34m!=\u001b[0m \u001b[0mio\u001b[0m\u001b[0;34m.\u001b[0m\u001b[0mengine\u001b[0m\u001b[0;34m:\u001b[0m\u001b[0;34m\u001b[0m\u001b[0;34m\u001b[0m\u001b[0m\n\u001b[1;32m    366\u001b[0m         raise ValueError(\n",
            "\u001b[0;32m/usr/local/lib/python3.7/dist-packages/pandas/io/excel/_base.py\u001b[0m in \u001b[0;36m__init__\u001b[0;34m(self, path_or_buffer, engine, storage_options)\u001b[0m\n\u001b[1;32m   1190\u001b[0m             \u001b[0;32melse\u001b[0m\u001b[0;34m:\u001b[0m\u001b[0;34m\u001b[0m\u001b[0;34m\u001b[0m\u001b[0m\n\u001b[1;32m   1191\u001b[0m                 ext = inspect_excel_format(\n\u001b[0;32m-> 1192\u001b[0;31m                     \u001b[0mcontent_or_path\u001b[0m\u001b[0;34m=\u001b[0m\u001b[0mpath_or_buffer\u001b[0m\u001b[0;34m,\u001b[0m \u001b[0mstorage_options\u001b[0m\u001b[0;34m=\u001b[0m\u001b[0mstorage_options\u001b[0m\u001b[0;34m\u001b[0m\u001b[0;34m\u001b[0m\u001b[0m\n\u001b[0m\u001b[1;32m   1193\u001b[0m                 )\n\u001b[1;32m   1194\u001b[0m                 \u001b[0;32mif\u001b[0m \u001b[0mext\u001b[0m \u001b[0;32mis\u001b[0m \u001b[0;32mNone\u001b[0m\u001b[0;34m:\u001b[0m\u001b[0;34m\u001b[0m\u001b[0;34m\u001b[0m\u001b[0m\n",
            "\u001b[0;32m/usr/local/lib/python3.7/dist-packages/pandas/io/excel/_base.py\u001b[0m in \u001b[0;36minspect_excel_format\u001b[0;34m(content_or_path, storage_options)\u001b[0m\n\u001b[1;32m   1069\u001b[0m \u001b[0;34m\u001b[0m\u001b[0m\n\u001b[1;32m   1070\u001b[0m     with get_handle(\n\u001b[0;32m-> 1071\u001b[0;31m         \u001b[0mcontent_or_path\u001b[0m\u001b[0;34m,\u001b[0m \u001b[0;34m\"rb\"\u001b[0m\u001b[0;34m,\u001b[0m \u001b[0mstorage_options\u001b[0m\u001b[0;34m=\u001b[0m\u001b[0mstorage_options\u001b[0m\u001b[0;34m,\u001b[0m \u001b[0mis_text\u001b[0m\u001b[0;34m=\u001b[0m\u001b[0;32mFalse\u001b[0m\u001b[0;34m\u001b[0m\u001b[0;34m\u001b[0m\u001b[0m\n\u001b[0m\u001b[1;32m   1072\u001b[0m     ) as handle:\n\u001b[1;32m   1073\u001b[0m         \u001b[0mstream\u001b[0m \u001b[0;34m=\u001b[0m \u001b[0mhandle\u001b[0m\u001b[0;34m.\u001b[0m\u001b[0mhandle\u001b[0m\u001b[0;34m\u001b[0m\u001b[0;34m\u001b[0m\u001b[0m\n",
            "\u001b[0;32m/usr/local/lib/python3.7/dist-packages/pandas/io/common.py\u001b[0m in \u001b[0;36mget_handle\u001b[0;34m(path_or_buf, mode, encoding, compression, memory_map, is_text, errors, storage_options)\u001b[0m\n\u001b[1;32m    709\u001b[0m         \u001b[0;32melse\u001b[0m\u001b[0;34m:\u001b[0m\u001b[0;34m\u001b[0m\u001b[0;34m\u001b[0m\u001b[0m\n\u001b[1;32m    710\u001b[0m             \u001b[0;31m# Binary mode\u001b[0m\u001b[0;34m\u001b[0m\u001b[0;34m\u001b[0m\u001b[0;34m\u001b[0m\u001b[0m\n\u001b[0;32m--> 711\u001b[0;31m             \u001b[0mhandle\u001b[0m \u001b[0;34m=\u001b[0m \u001b[0mopen\u001b[0m\u001b[0;34m(\u001b[0m\u001b[0mhandle\u001b[0m\u001b[0;34m,\u001b[0m \u001b[0mioargs\u001b[0m\u001b[0;34m.\u001b[0m\u001b[0mmode\u001b[0m\u001b[0;34m)\u001b[0m\u001b[0;34m\u001b[0m\u001b[0;34m\u001b[0m\u001b[0m\n\u001b[0m\u001b[1;32m    712\u001b[0m         \u001b[0mhandles\u001b[0m\u001b[0;34m.\u001b[0m\u001b[0mappend\u001b[0m\u001b[0;34m(\u001b[0m\u001b[0mhandle\u001b[0m\u001b[0;34m)\u001b[0m\u001b[0;34m\u001b[0m\u001b[0;34m\u001b[0m\u001b[0m\n\u001b[1;32m    713\u001b[0m \u001b[0;34m\u001b[0m\u001b[0m\n",
            "\u001b[0;31mFileNotFoundError\u001b[0m: [Errno 2] No such file or directory: '/content/gdrive/Shared Drives/Colab Notebooks/CESAR - Compras–RelatórioPiramide2022_jan.jun.xlsx'"
          ]
        }
      ],
      "source": [
        "#importando bibliotecas\n",
        "import pandas as pd\n",
        "import numpy as np\n",
        "import seaborn as sn\n",
        "import matplotlib.pyplot as pt\n",
        "\n",
        "#conexão com o Drive\n",
        "from google.colab import drive\n",
        "drive.mount('/content/gdrive')\n",
        "compras = pd.read_excel('/content/gdrive/Shared Drives/Colab Notebooks/CESAR - Compras–RelatórioPiramide2022_jan.jun.xlsx')"
      ]
    },
    {
      "cell_type": "markdown",
      "source": [
        "# **Estatística Descritiva**"
      ],
      "metadata": {
        "id": "9Ce1PUO1fu07"
      }
    },
    {
      "cell_type": "markdown",
      "source": [
        "**Sumário**"
      ],
      "metadata": {
        "id": "TWXyoaLx5u8t"
      }
    },
    {
      "cell_type": "markdown",
      "source": [
        "Primeiro foi realizada uma análise exploratória dos dataset, com o propósito de classificar os dados disponíveis, facilitando a análise no geral. \n",
        "\n",
        "Os conteúdos de cada coluna do Dataset foram divididos em diferentes tipos de dados, os quais podem ser vistos abaixo. Dessa forma, essa organização ajuda nas etapas seguintes de desenvolvimento por criar uma referência de fácil entendimento e visualização."
      ],
      "metadata": {
        "id": "jKaPyKxyf1O1"
      }
    },
    {
      "cell_type": "code",
      "source": [
        "df = pd.DataFrame(compras)\n",
        "df"
      ],
      "metadata": {
        "id": "zfmuxt1PpLkX"
      },
      "execution_count": null,
      "outputs": []
    },
    {
      "cell_type": "code",
      "source": [
        "df.columns.str.strip(\"\\n \")"
      ],
      "metadata": {
        "id": "Wzu0TY5Ipfj2"
      },
      "execution_count": null,
      "outputs": []
    },
    {
      "cell_type": "markdown",
      "source": [
        "**Classificações dos Dados:**"
      ],
      "metadata": {
        "id": "h-HySWoFUKru"
      }
    },
    {
      "cell_type": "markdown",
      "source": [
        "**Dados Quantitativos**"
      ],
      "metadata": {
        "id": "0Jz6hQfwWdgj"
      }
    },
    {
      "cell_type": "code",
      "source": [
        "df_quant = df[['Outras\\nDespesas', 'Frete T1', 'Frete T2','Qtd dias','Val. Tot. Financeiro', 'Valor Total Integral', 'Total Valor Pendente', 'Total Qtde. Pendente']]\n",
        "df_quant"
      ],
      "metadata": {
        "id": "Dz0f-KF9pNt7"
      },
      "execution_count": null,
      "outputs": []
    },
    {
      "cell_type": "markdown",
      "source": [
        "**Dados Qualitativos**"
      ],
      "metadata": {
        "id": "QMAcrreKYN30"
      }
    },
    {
      "cell_type": "code",
      "source": [
        "df_qual = df[['Nome do Fornecedor', 'Nome da Filial', 'Nome do Comprador', 'Moeda', 'Recebto\\nConfirmado', 'Aceita']]\n",
        "df_qual"
      ],
      "metadata": {
        "id": "F-Fz-KGts077"
      },
      "execution_count": null,
      "outputs": []
    },
    {
      "cell_type": "markdown",
      "source": [
        "**Dados Categóricos**"
      ],
      "metadata": {
        "id": "pClv0Tf64bjy"
      }
    },
    {
      "cell_type": "code",
      "source": [
        "df_categ = df[['Tipo', 'Tem\\nFilha', 'Dados\\nRepres.', 'Moeda']]\n",
        "df_categ"
      ],
      "metadata": {
        "id": "lUBxKM8crt4p"
      },
      "execution_count": null,
      "outputs": []
    },
    {
      "cell_type": "markdown",
      "source": [
        "**Séries Temporais**"
      ],
      "metadata": {
        "id": "UAuanyn9wLUa"
      }
    },
    {
      "cell_type": "code",
      "source": [
        "df_temp = df[['Dt. Últ.\\nReceb.', 'Data Aceite']]\n",
        "df_temp"
      ],
      "metadata": {
        "id": "dupDq33tzzER"
      },
      "execution_count": null,
      "outputs": []
    },
    {
      "cell_type": "markdown",
      "source": [
        "# **Bootstraping do Dataset.**"
      ],
      "metadata": {
        "id": "x9gLGYIyVIeQ"
      }
    },
    {
      "cell_type": "markdown",
      "source": [
        "Através da utilização da técnica de bootstrap, são gerados insights com os dados do dataset, gerando valor para o cliente."
      ],
      "metadata": {
        "id": "pp3Hy2lFVuBw"
      }
    },
    {
      "cell_type": "code",
      "source": [
        "#relembrando todas as colunas:\n",
        "data_frame_lista = df.columns.tolist()\n",
        "data_frame_lista"
      ],
      "metadata": {
        "id": "3Cx0RBJK-LzM"
      },
      "execution_count": null,
      "outputs": []
    },
    {
      "cell_type": "code",
      "source": [
        "#filtrando as colunas necessárias\n",
        "df_derivado = df.filter([\"Nome do Fornecedor\", \"A.F. Principal\", \"Fornecedor\", \"Nome do Comprador\", \"Valor Total\\nPedido (R$)\", \"Data Aceite\"])\n",
        "df_derivado"
      ],
      "metadata": {
        "id": "jZi0ThBoBMxw"
      },
      "execution_count": null,
      "outputs": []
    },
    {
      "cell_type": "code",
      "source": [
        "df_derivado.describe() #gera a descrição das distribuições"
      ],
      "metadata": {
        "id": "CvwQm_6hNGuK"
      },
      "execution_count": null,
      "outputs": []
    },
    {
      "cell_type": "code",
      "source": [
        "#trabalhando com apenas 30% do dataframe.\n",
        "df_30porcento = df_derivado.sample(frac = 0.3)\n",
        "df_30porcento"
      ],
      "metadata": {
        "id": "3cj7hw3aVe7L"
      },
      "execution_count": null,
      "outputs": []
    },
    {
      "cell_type": "markdown",
      "source": [
        "**Métricas abordadas em sala:**"
      ],
      "metadata": {
        "id": "GnFesteGXODR"
      }
    },
    {
      "cell_type": "code",
      "source": [
        "#selecionando apenas as colunas válidas para média e mediana\n",
        "valores_dos_pedidos = df_30porcento.filter([\"Valor Total\\nPedido (R$)\"])\n",
        "valores_dos_pedidos"
      ],
      "metadata": {
        "id": "TZjnVNzqXdtw"
      },
      "execution_count": null,
      "outputs": []
    },
    {
      "cell_type": "code",
      "source": [
        "# Média dos valores\n",
        "media_dos_valores = valores_dos_pedidos.mean()\n",
        "media_dos_valores"
      ],
      "metadata": {
        "id": "nV1FNQVIZeca"
      },
      "execution_count": null,
      "outputs": []
    },
    {
      "cell_type": "code",
      "source": [
        "# Mediana dos valores\n",
        "mediana_dos_valores = valores_dos_pedidos.median()\n",
        "mediana_dos_valores"
      ],
      "metadata": {
        "id": "GqtzMSRvagBn"
      },
      "execution_count": null,
      "outputs": []
    },
    {
      "cell_type": "markdown",
      "source": [
        "**Boxplot:**\n",
        "\n",
        "Abaixo, criamos um gráfico boxplot com os dados categoricos do dataset para visualizar como eles se relacionam."
      ],
      "metadata": {
        "id": "EWCyekzQbTrS"
      }
    },
    {
      "cell_type": "markdown",
      "source": [
        "Realizamos um boxplot usando séries temporais com as datas de aceitação e os valores do produtos."
      ],
      "metadata": {
        "id": "HbZENdd1UNiB"
      }
    },
    {
      "cell_type": "code",
      "source": [
        "#trocando tipo de dados da Data para datetime64:\n",
        "df_30porcento[\"Data Aceite\"] = df_30porcento[\"Data Aceite\"].astype(\"datetime64\")\n",
        "\n",
        "#colocando a data como index do dataframe:\n",
        "df_30porcento = df_30porcento.set_index(\"Data Aceite\")\n",
        "df_30porcento"
      ],
      "metadata": {
        "id": "OxMRef52Tggu"
      },
      "execution_count": null,
      "outputs": []
    },
    {
      "cell_type": "markdown",
      "source": [
        "Foi necessário decompor os elementos da coluna \"Data Aceite\" para poder usar especificamento os meses do ano."
      ],
      "metadata": {
        "id": "ADQGW0DkWLVw"
      }
    },
    {
      "cell_type": "code",
      "source": [
        "#separando elementos da data:\n",
        "df_30porcento[\"Data Aceite\"] = df_30porcento.index\n",
        "#df_30porcento[\"Ano\"] = df_30porcento[\"Data Aceite\"].dt.year\n",
        "df_30porcento[\"Mes\"] = df_30porcento[\"Data Aceite\"].dt.month\n",
        "df_30porcento[\"Mes\"]"
      ],
      "metadata": {
        "id": "IDBNVHZUW3dV"
      },
      "execution_count": null,
      "outputs": []
    },
    {
      "cell_type": "markdown",
      "source": [
        "Dessa forma se torna possível criar o Boxplot abaixo."
      ],
      "metadata": {
        "id": "nnYOTX92aAJV"
      }
    },
    {
      "cell_type": "code",
      "source": [
        "# Criando o Boxplot com Seaborn\n",
        "pt.figure( figsize=(15, 8)) # alterar tamanho\n",
        "bx = sn.boxplot(df_30porcento[\"Mes\"], df_30porcento[\"Valor Total\\nPedido (R$)\"])\n",
        "bx.set_title(\"Valores dos pedidos por mês\", fontsize=15, loc=\"center\")\n",
        "bx.set_xlabel(\"Mês\")\n",
        "bx.set_ylabel(\"Valores do pedidos(R$)\")"
      ],
      "metadata": {
        "id": "EjqNy0Z_aJpf"
      },
      "execution_count": null,
      "outputs": []
    },
    {
      "cell_type": "code",
      "source": [
        "pt.figure( figsize=(15, 8)) # alterar tamanho\n",
        "bx = sn.boxplot(df_30porcento[\"Mes\"], df_30porcento[\"Valor Total\\nPedido (R$)\"])\n",
        "bx.set_title(\"Valores dos pedidos por mês\", fontsize=15, loc=\"center\")\n",
        "bx.set_xlabel(\"Mês\")\n",
        "bx.set_ylabel(\"Valores do pedidos(R$)\")\n",
        "pt.ylim(0, 10000)"
      ],
      "metadata": {
        "id": "75c6ugVw4R06"
      },
      "execution_count": null,
      "outputs": []
    },
    {
      "cell_type": "markdown",
      "source": [
        "**Matriz de Correlação:**"
      ],
      "metadata": {
        "id": "n1Xf37Q7XwyE"
      }
    },
    {
      "cell_type": "markdown",
      "source": [
        "Pode ser visto na matriz abaixo que as variáveis \"A.F. Principal\" e \"Mes\" possuem maior correlação. E as que possuem maior correlação são \"Valor Total Pedido\" e \"Fornecedor\"."
      ],
      "metadata": {
        "id": "Z9qrMEdNjUoK"
      }
    },
    {
      "cell_type": "code",
      "source": [
        "#Criação da matriz\n",
        "matriz_correlacao = df_30porcento.corr()\n",
        "matriz_correlacao"
      ],
      "metadata": {
        "id": "9NSDQA_jYXs_"
      },
      "execution_count": null,
      "outputs": []
    },
    {
      "cell_type": "markdown",
      "source": [
        "**Representação visual**:"
      ],
      "metadata": {
        "id": "Q_YrtiXHZZAT"
      }
    },
    {
      "cell_type": "code",
      "source": [
        "pt.figure(figsize=(15, 8))\n",
        "sn.heatmap(matriz_correlacao, annot=True, linewidths=.6)\n",
        "pt.show()"
      ],
      "metadata": {
        "id": "aK7XFGgYZYTs"
      },
      "execution_count": null,
      "outputs": []
    },
    {
      "cell_type": "markdown",
      "source": [
        "# **Visualização de Ocorrências**"
      ],
      "metadata": {
        "id": "YwBjeorNl2SG"
      }
    },
    {
      "cell_type": "markdown",
      "source": [
        "Abaixo se pode ver quais os fornecedores com quem a equipe de contas mais teve contato entre os meses de Janeiro e Junho."
      ],
      "metadata": {
        "id": "aZ3cLuc1rCYC"
      }
    },
    {
      "cell_type": "markdown",
      "source": [
        "**Com qual fornecedor os compradores mais tiveram contato durante o semestre?**\n",
        "\n",
        "Com quais fornecedores os compradores mais tiveram contato durante o semestre?)"
      ],
      "metadata": {
        "id": "k9yZhQCgfGrA"
      }
    },
    {
      "cell_type": "code",
      "source": [
        "ocorrencia_fornecedor = df_30porcento['Nome do Fornecedor'].value_counts()\n",
        "print(ocorrencia_fornecedor)"
      ],
      "metadata": {
        "id": "J0RqxnupmDe9"
      },
      "execution_count": null,
      "outputs": []
    },
    {
      "cell_type": "code",
      "source": [
        "#aqui limitamos o número de ocorrencias para aqueles fornecedores que aparecem 20 vezes ou mais.\n",
        "ocorrencia_fornecedor = df_30porcento['Nome do Fornecedor'].value_counts().loc[lambda x : x>19]\n",
        "print(ocorrencia_fornecedor)"
      ],
      "metadata": {
        "id": "-V7Hea3ToTxm"
      },
      "execution_count": null,
      "outputs": []
    },
    {
      "cell_type": "markdown",
      "source": [
        "**Representação Visual**"
      ],
      "metadata": {
        "id": "C06OqOPFojnX"
      }
    },
    {
      "cell_type": "code",
      "source": [
        "pt.figure(figsize=(15, 8))\n",
        "ocorrencia_fornecedor.plot(kind=\"bar\", alpha = 0.5)\n",
        "pt.show()"
      ],
      "metadata": {
        "id": "KVop-MJBonvi"
      },
      "execution_count": null,
      "outputs": []
    },
    {
      "cell_type": "markdown",
      "source": [
        "**Aviso**\n",
        "\n",
        "**Como há uma enorme quantidade de fornecedores com baixa ocorrência, o gráfico para estes fica quase impossível de se ler. Por causa disso, o mesmo foi omitido.**"
      ],
      "metadata": {
        "id": "3666Ui0TsLz5"
      }
    },
    {
      "cell_type": "markdown",
      "source": [
        "# **Testes de Hipótese**\n"
      ],
      "metadata": {
        "id": "GIS9zbOskskp"
      }
    },
    {
      "cell_type": "code",
      "source": [
        "#Teste de Normalidade Shapiro-Wilk\n",
        "from scipy.stats import shapiro\n",
        "\n",
        "amostra = df_derivado[\"Valor Total\\nPedido (R$)\"].dropna()\n",
        "stat, p = shapiro(amostra)\n",
        "print('stat=%.3f, p=%.3f' % (stat, p))\n",
        "if p > 0.05:\n",
        "\tprint('Provavelmente uma Distribuição Normal')\n",
        "else:\n",
        "\tprint('Provavelmente NÃO é uma Distribuição Normal')"
      ],
      "metadata": {
        "id": "OFd3h8ryk0_m"
      },
      "execution_count": null,
      "outputs": []
    },
    {
      "cell_type": "code",
      "source": [
        "#Teste de Correlação de Pearson\n",
        "from scipy.stats import pearsonr\n",
        "\n",
        "amostra1 = df_derivado[\"Valor Total\\nPedido (R$)\"].sample(frac=0.3).dropna()\n",
        "amostra2 = df_derivado[\"Valor Total\\nPedido (R$)\"].sample(frac=0.3).dropna()\n",
        "stat, p = pearsonr(amostra1, amostra2)\n",
        "print('stat=%.3f, p=%.3f' % (stat, p))\n",
        "if p > 0.05:\n",
        "\tprint('Provavelmente Independente')\n",
        "else:\n",
        "\tprint('Provavelmente Dependente')"
      ],
      "metadata": {
        "id": "YWGJU56nmo8O"
      },
      "execution_count": null,
      "outputs": []
    },
    {
      "cell_type": "code",
      "source": [
        "#Teste T-Student\n",
        "from scipy.stats import ttest_ind\n",
        "\n",
        "amostra1 = df_derivado[\"Valor Total\\nPedido (R$)\"].sample(frac=0.3).dropna()\n",
        "amostra2 = df_derivado[\"Valor Total\\nPedido (R$)\"].sample(frac=0.3).dropna()\n",
        "stat, p = ttest_ind(amostra1, amostra2)\n",
        "print('stat=%.3f, p=%.3f' % (stat, p))\n",
        "if p > 0.05:\n",
        "\tprint('Provavelmente a mesma distribuição')\n",
        "else:\n",
        "\tprint('Provavelmentes as distribuições são diferentes')"
      ],
      "metadata": {
        "id": "HCMHFf4hm3DN"
      },
      "execution_count": null,
      "outputs": []
    },
    {
      "cell_type": "markdown",
      "source": [
        "**Hipótese: A maioria dos pedidos do CESAR tem valor abaixo dos R$2000,00**"
      ],
      "metadata": {
        "id": "2y_G8hx-4HEF"
      }
    },
    {
      "cell_type": "code",
      "source": [
        "# https://medium.com/the-researchers-guide/finding-the-best-distribution-that-fits-your-data-using-pythons-fitter-library-319a5a0972e9\n",
        "!pip install fitter"
      ],
      "metadata": {
        "id": "9_X2Q-kzoCeB"
      },
      "execution_count": null,
      "outputs": []
    },
    {
      "cell_type": "code",
      "source": [
        "from fitter import Fitter, get_common_distributions, get_distributions\n",
        "dist = df_derivado[\"Valor Total\\nPedido (R$)\"].dropna().values\n",
        "dist"
      ],
      "metadata": {
        "id": "8coz6EYfntPe"
      },
      "execution_count": null,
      "outputs": []
    },
    {
      "cell_type": "code",
      "source": [
        "f = Fitter(dist,\n",
        "           distributions=['gamma',\n",
        "                          \"beta\",\n",
        "                          \"burr\",\n",
        "                          \"norm\"])\n",
        "f.fit()\n",
        "f.summary()"
      ],
      "metadata": {
        "id": "L2RPWNoIpTEw"
      },
      "execution_count": null,
      "outputs": []
    },
    {
      "cell_type": "code",
      "source": [
        "f.get_best(method = 'sumsquare_error')"
      ],
      "metadata": {
        "id": "OB-ZcIoYpYVI"
      },
      "execution_count": null,
      "outputs": []
    }
  ]
}